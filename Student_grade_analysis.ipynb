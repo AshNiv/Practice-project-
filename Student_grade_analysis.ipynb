{
 "cells": [
  {
   "cell_type": "markdown",
   "id": "43ee8fcd",
   "metadata": {},
   "source": [
    "# Grades of Students dataset"
   ]
  },
  {
   "cell_type": "markdown",
   "id": "0f438aaa",
   "metadata": {},
   "source": [
    "# Problem Statement:\n",
    "The dataset contains grades scored by students throughout their university tenure in various courses and their CGPA calculated \n",
    "based on their grades"
   ]
  },
  {
   "cell_type": "markdown",
   "id": "48d9f8f0",
   "metadata": {},
   "source": [
    " Dataset:\n",
    "    \n",
    "-Seat No : The enrolled number of candidate that took the exams\n",
    "\n",
    "CGPA : The cumulative GPA based on the four year total grade progress of each candidate .\n",
    "    CGPA is a Final Marks -- provided to student.\n",
    "\n",
    "\n",
    "All other columns are course codes in the format AB-XXX where AB are alphabets representing candidates\n",
    "    ' departments and XXX are numbers where first X represents the year the canditate took exam\n",
    "\n",
    "Predict: CGPA of a student based on different grades in four years."
   ]
  },
  {
   "cell_type": "markdown",
   "id": "31e44235",
   "metadata": {},
   "source": [
    "# steps:\n",
    "    \n",
    "    importing  libraries\n",
    "    \n",
    "    -Importing Dataset\n",
    "\n",
    "-Exploring Dataset\n",
    "\n",
    "-Preparing Dataset\n",
    "\n",
    "-Dividing the 7 categories of label class in to two categories of 1 and 2.\n",
    "\n",
    "-Preprocessing the dataset:\n",
    "\n",
    "-Removing Outliers\n",
    "\n",
    "-skewness\n",
    "\n",
    "-LabelEncoding\n",
    "\n",
    "-Visualization of dataset\n",
    "\n",
    "-Correlation\n",
    "\n",
    "Scalling the features\n",
    "\n",
    "Normalizing:\n",
    "\n",
    "-Preprocessing the dataset\n",
    "\n",
    "Analysis /Visualization after preprocessing\n",
    "\n",
    "Scalling the features\n",
    "\n",
    "Balance data set:\n",
    "\n",
    "Oversampling:"
   ]
  },
  {
   "cell_type": "markdown",
   "id": "5bda62eb",
   "metadata": {},
   "source": [
    "# Best_Random_state:\n",
    "-Best Random State ,Find Best accuracy/testing accuracy\n",
    "\n",
    "Machine Learning Models that are applied:\n",
    ".KNN\n",
    "\n",
    ".Logistic Regression\n",
    "\n",
    ".Decision Tree\n",
    "\n",
    ".SVM\n",
    "\n",
    ".Random Forest"
   ]
  },
  {
   "cell_type": "markdown",
   "id": "906f4e81",
   "metadata": {},
   "source": [
    "# Modelling:\n",
    "\n",
    ".Find best model\n",
    "\n",
    ".Hyper parameter tunning:\n",
    "​\n",
    "\n",
    ".GridSearchCV\n",
    "​\n",
    "\n",
    ".Saving the model:"
   ]
  },
  {
   "cell_type": "code",
   "execution_count": 84,
   "id": "9b8fb711",
   "metadata": {},
   "outputs": [],
   "source": [
    "# importing python libraries      \n",
    "\n",
    "import pandas as pd                  # for data manipulation\n",
    "\n",
    "import numpy as np                   # for mathematical calculations\n",
    "\n",
    "import seaborn as sns                # for data visualization\n",
    "\n",
    "import matplotlib.pyplot as plt      # for plotting graphs\n",
    "plt.style.use('seaborn')             # the seaborn stylesheet will make our plots look neat and pretty.\n",
    "\n",
    "%matplotlib inline                   \n",
    "# \"%matplotlib inline\" ensures commands in cells below the cell that outputs a plot does not affect the plot\n",
    "    \n",
    "import warnings                      # to ignore any warnings\n",
    "warnings.filterwarnings(\"ignore\")"
   ]
  },
  {
   "cell_type": "code",
   "execution_count": 85,
   "id": "a870edf8",
   "metadata": {},
   "outputs": [
    {
     "data": {
      "text/html": [
       "<div>\n",
       "<style scoped>\n",
       "    .dataframe tbody tr th:only-of-type {\n",
       "        vertical-align: middle;\n",
       "    }\n",
       "\n",
       "    .dataframe tbody tr th {\n",
       "        vertical-align: top;\n",
       "    }\n",
       "\n",
       "    .dataframe thead th {\n",
       "        text-align: right;\n",
       "    }\n",
       "</style>\n",
       "<table border=\"1\" class=\"dataframe\">\n",
       "  <thead>\n",
       "    <tr style=\"text-align: right;\">\n",
       "      <th></th>\n",
       "      <th>Seat No.</th>\n",
       "      <th>PH-121</th>\n",
       "      <th>HS-101</th>\n",
       "      <th>CY-105</th>\n",
       "      <th>HS-105/12</th>\n",
       "      <th>MT-111</th>\n",
       "      <th>CS-105</th>\n",
       "      <th>CS-106</th>\n",
       "      <th>EL-102</th>\n",
       "      <th>EE-119</th>\n",
       "      <th>...</th>\n",
       "      <th>CS-312</th>\n",
       "      <th>CS-317</th>\n",
       "      <th>CS-403</th>\n",
       "      <th>CS-421</th>\n",
       "      <th>CS-406</th>\n",
       "      <th>CS-414</th>\n",
       "      <th>CS-419</th>\n",
       "      <th>CS-423</th>\n",
       "      <th>CS-412</th>\n",
       "      <th>CGPA</th>\n",
       "    </tr>\n",
       "  </thead>\n",
       "  <tbody>\n",
       "    <tr>\n",
       "      <th>0</th>\n",
       "      <td>CS-97001</td>\n",
       "      <td>B-</td>\n",
       "      <td>D+</td>\n",
       "      <td>C-</td>\n",
       "      <td>C</td>\n",
       "      <td>C-</td>\n",
       "      <td>D+</td>\n",
       "      <td>D</td>\n",
       "      <td>C-</td>\n",
       "      <td>B-</td>\n",
       "      <td>...</td>\n",
       "      <td>C-</td>\n",
       "      <td>C-</td>\n",
       "      <td>C-</td>\n",
       "      <td>C-</td>\n",
       "      <td>A-</td>\n",
       "      <td>A</td>\n",
       "      <td>C-</td>\n",
       "      <td>B</td>\n",
       "      <td>A-</td>\n",
       "      <td>2.205</td>\n",
       "    </tr>\n",
       "    <tr>\n",
       "      <th>1</th>\n",
       "      <td>CS-97002</td>\n",
       "      <td>A</td>\n",
       "      <td>D</td>\n",
       "      <td>D+</td>\n",
       "      <td>D</td>\n",
       "      <td>B-</td>\n",
       "      <td>C</td>\n",
       "      <td>D</td>\n",
       "      <td>A</td>\n",
       "      <td>D+</td>\n",
       "      <td>...</td>\n",
       "      <td>D+</td>\n",
       "      <td>D</td>\n",
       "      <td>C</td>\n",
       "      <td>D</td>\n",
       "      <td>A-</td>\n",
       "      <td>B-</td>\n",
       "      <td>C</td>\n",
       "      <td>C</td>\n",
       "      <td>B</td>\n",
       "      <td>2.008</td>\n",
       "    </tr>\n",
       "    <tr>\n",
       "      <th>2</th>\n",
       "      <td>CS-97003</td>\n",
       "      <td>A</td>\n",
       "      <td>B</td>\n",
       "      <td>A</td>\n",
       "      <td>B-</td>\n",
       "      <td>B+</td>\n",
       "      <td>A</td>\n",
       "      <td>B-</td>\n",
       "      <td>B+</td>\n",
       "      <td>A-</td>\n",
       "      <td>...</td>\n",
       "      <td>B</td>\n",
       "      <td>B</td>\n",
       "      <td>A</td>\n",
       "      <td>C</td>\n",
       "      <td>A</td>\n",
       "      <td>A</td>\n",
       "      <td>A</td>\n",
       "      <td>A-</td>\n",
       "      <td>A</td>\n",
       "      <td>3.608</td>\n",
       "    </tr>\n",
       "    <tr>\n",
       "      <th>3</th>\n",
       "      <td>CS-97004</td>\n",
       "      <td>D</td>\n",
       "      <td>C+</td>\n",
       "      <td>D+</td>\n",
       "      <td>D</td>\n",
       "      <td>D</td>\n",
       "      <td>A-</td>\n",
       "      <td>D+</td>\n",
       "      <td>C-</td>\n",
       "      <td>D</td>\n",
       "      <td>...</td>\n",
       "      <td>D+</td>\n",
       "      <td>C</td>\n",
       "      <td>D+</td>\n",
       "      <td>C-</td>\n",
       "      <td>B-</td>\n",
       "      <td>B</td>\n",
       "      <td>C+</td>\n",
       "      <td>C+</td>\n",
       "      <td>C+</td>\n",
       "      <td>1.906</td>\n",
       "    </tr>\n",
       "    <tr>\n",
       "      <th>4</th>\n",
       "      <td>CS-97005</td>\n",
       "      <td>A-</td>\n",
       "      <td>A-</td>\n",
       "      <td>A-</td>\n",
       "      <td>B+</td>\n",
       "      <td>A</td>\n",
       "      <td>A</td>\n",
       "      <td>A-</td>\n",
       "      <td>B+</td>\n",
       "      <td>A</td>\n",
       "      <td>...</td>\n",
       "      <td>B-</td>\n",
       "      <td>B+</td>\n",
       "      <td>B+</td>\n",
       "      <td>B-</td>\n",
       "      <td>A-</td>\n",
       "      <td>A</td>\n",
       "      <td>A-</td>\n",
       "      <td>A-</td>\n",
       "      <td>A</td>\n",
       "      <td>3.448</td>\n",
       "    </tr>\n",
       "    <tr>\n",
       "      <th>...</th>\n",
       "      <td>...</td>\n",
       "      <td>...</td>\n",
       "      <td>...</td>\n",
       "      <td>...</td>\n",
       "      <td>...</td>\n",
       "      <td>...</td>\n",
       "      <td>...</td>\n",
       "      <td>...</td>\n",
       "      <td>...</td>\n",
       "      <td>...</td>\n",
       "      <td>...</td>\n",
       "      <td>...</td>\n",
       "      <td>...</td>\n",
       "      <td>...</td>\n",
       "      <td>...</td>\n",
       "      <td>...</td>\n",
       "      <td>...</td>\n",
       "      <td>...</td>\n",
       "      <td>...</td>\n",
       "      <td>...</td>\n",
       "      <td>...</td>\n",
       "    </tr>\n",
       "    <tr>\n",
       "      <th>566</th>\n",
       "      <td>CS-97567</td>\n",
       "      <td>B</td>\n",
       "      <td>A</td>\n",
       "      <td>A</td>\n",
       "      <td>A-</td>\n",
       "      <td>A+</td>\n",
       "      <td>A</td>\n",
       "      <td>A-</td>\n",
       "      <td>A-</td>\n",
       "      <td>A+</td>\n",
       "      <td>...</td>\n",
       "      <td>A-</td>\n",
       "      <td>A-</td>\n",
       "      <td>A</td>\n",
       "      <td>A</td>\n",
       "      <td>A</td>\n",
       "      <td>B+</td>\n",
       "      <td>B+</td>\n",
       "      <td>B</td>\n",
       "      <td>A</td>\n",
       "      <td>3.798</td>\n",
       "    </tr>\n",
       "    <tr>\n",
       "      <th>567</th>\n",
       "      <td>CS-97568</td>\n",
       "      <td>A+</td>\n",
       "      <td>A</td>\n",
       "      <td>A</td>\n",
       "      <td>A</td>\n",
       "      <td>A</td>\n",
       "      <td>A</td>\n",
       "      <td>A</td>\n",
       "      <td>A-</td>\n",
       "      <td>A</td>\n",
       "      <td>...</td>\n",
       "      <td>B+</td>\n",
       "      <td>B+</td>\n",
       "      <td>A</td>\n",
       "      <td>A</td>\n",
       "      <td>A-</td>\n",
       "      <td>B</td>\n",
       "      <td>A-</td>\n",
       "      <td>C</td>\n",
       "      <td>A-</td>\n",
       "      <td>3.772</td>\n",
       "    </tr>\n",
       "    <tr>\n",
       "      <th>568</th>\n",
       "      <td>CS-97569</td>\n",
       "      <td>B</td>\n",
       "      <td>A</td>\n",
       "      <td>A-</td>\n",
       "      <td>B+</td>\n",
       "      <td>A</td>\n",
       "      <td>A</td>\n",
       "      <td>A</td>\n",
       "      <td>A</td>\n",
       "      <td>A</td>\n",
       "      <td>...</td>\n",
       "      <td>A-</td>\n",
       "      <td>B</td>\n",
       "      <td>A</td>\n",
       "      <td>B+</td>\n",
       "      <td>A</td>\n",
       "      <td>C</td>\n",
       "      <td>B+</td>\n",
       "      <td>A-</td>\n",
       "      <td>A-</td>\n",
       "      <td>3.470</td>\n",
       "    </tr>\n",
       "    <tr>\n",
       "      <th>569</th>\n",
       "      <td>CS-97570</td>\n",
       "      <td>A</td>\n",
       "      <td>B+</td>\n",
       "      <td>D</td>\n",
       "      <td>A</td>\n",
       "      <td>D</td>\n",
       "      <td>D+</td>\n",
       "      <td>B-</td>\n",
       "      <td>C-</td>\n",
       "      <td>B-</td>\n",
       "      <td>...</td>\n",
       "      <td>D</td>\n",
       "      <td>B</td>\n",
       "      <td>B</td>\n",
       "      <td>C-</td>\n",
       "      <td>D</td>\n",
       "      <td>C</td>\n",
       "      <td>B</td>\n",
       "      <td>B-</td>\n",
       "      <td>C</td>\n",
       "      <td>2.193</td>\n",
       "    </tr>\n",
       "    <tr>\n",
       "      <th>570</th>\n",
       "      <td>CS-97571</td>\n",
       "      <td>C</td>\n",
       "      <td>D</td>\n",
       "      <td>D</td>\n",
       "      <td>C</td>\n",
       "      <td>C</td>\n",
       "      <td>D+</td>\n",
       "      <td>B</td>\n",
       "      <td>C+</td>\n",
       "      <td>C</td>\n",
       "      <td>...</td>\n",
       "      <td>C+</td>\n",
       "      <td>C</td>\n",
       "      <td>B-</td>\n",
       "      <td>D</td>\n",
       "      <td>F</td>\n",
       "      <td>C-</td>\n",
       "      <td>B+</td>\n",
       "      <td>D</td>\n",
       "      <td>C-</td>\n",
       "      <td>1.753</td>\n",
       "    </tr>\n",
       "  </tbody>\n",
       "</table>\n",
       "<p>571 rows × 43 columns</p>\n",
       "</div>"
      ],
      "text/plain": [
       "     Seat No. PH-121 HS-101 CY-105 HS-105/12 MT-111 CS-105 CS-106 EL-102  \\\n",
       "0    CS-97001     B-     D+     C-         C     C-     D+      D     C-   \n",
       "1    CS-97002      A      D     D+         D     B-      C      D      A   \n",
       "2    CS-97003      A      B      A        B-     B+      A     B-     B+   \n",
       "3    CS-97004      D     C+     D+         D      D     A-     D+     C-   \n",
       "4    CS-97005     A-     A-     A-        B+      A      A     A-     B+   \n",
       "..        ...    ...    ...    ...       ...    ...    ...    ...    ...   \n",
       "566  CS-97567      B      A      A        A-     A+      A     A-     A-   \n",
       "567  CS-97568     A+      A      A         A      A      A      A     A-   \n",
       "568  CS-97569      B      A     A-        B+      A      A      A      A   \n",
       "569  CS-97570      A     B+      D         A      D     D+     B-     C-   \n",
       "570  CS-97571      C      D      D         C      C     D+      B     C+   \n",
       "\n",
       "    EE-119  ... CS-312 CS-317 CS-403 CS-421 CS-406 CS-414 CS-419 CS-423  \\\n",
       "0       B-  ...     C-     C-     C-     C-     A-      A     C-      B   \n",
       "1       D+  ...     D+      D      C      D     A-     B-      C      C   \n",
       "2       A-  ...      B      B      A      C      A      A      A     A-   \n",
       "3        D  ...     D+      C     D+     C-     B-      B     C+     C+   \n",
       "4        A  ...     B-     B+     B+     B-     A-      A     A-     A-   \n",
       "..     ...  ...    ...    ...    ...    ...    ...    ...    ...    ...   \n",
       "566     A+  ...     A-     A-      A      A      A     B+     B+      B   \n",
       "567      A  ...     B+     B+      A      A     A-      B     A-      C   \n",
       "568      A  ...     A-      B      A     B+      A      C     B+     A-   \n",
       "569     B-  ...      D      B      B     C-      D      C      B     B-   \n",
       "570      C  ...     C+      C     B-      D      F     C-     B+      D   \n",
       "\n",
       "    CS-412   CGPA  \n",
       "0       A-  2.205  \n",
       "1        B  2.008  \n",
       "2        A  3.608  \n",
       "3       C+  1.906  \n",
       "4        A  3.448  \n",
       "..     ...    ...  \n",
       "566      A  3.798  \n",
       "567     A-  3.772  \n",
       "568     A-  3.470  \n",
       "569      C  2.193  \n",
       "570     C-  1.753  \n",
       "\n",
       "[571 rows x 43 columns]"
      ]
     },
     "execution_count": 85,
     "metadata": {},
     "output_type": "execute_result"
    }
   ],
   "source": [
    "df=pd.read_csv('student_grade.csv')\n",
    "df"
   ]
  },
  {
   "cell_type": "markdown",
   "id": "2335d978",
   "metadata": {},
   "source": [
    "# reshape two dimentional into one dimentional:"
   ]
  },
  {
   "cell_type": "code",
   "execution_count": 86,
   "id": "a1df71ff",
   "metadata": {
    "scrolled": true
   },
   "outputs": [
    {
     "name": "stdout",
     "output_type": "stream",
     "text": [
      "[[list([-0.75822486, -0.43229014, 0.18541917, Ellipsis, -1.10000169, 1.16629713, 0.91563679])]\n",
      " [list([0.25210152, 0.30844877, -0.27567761, Ellipsis, -1.61397922, -0.29975758, -0.39618167])]\n",
      " [list([1.09509164, 1.05223176, -0.80398716, Ellipsis, -0.23759388, -0.43062759, -1.21940514])]\n",
      " [Ellipsis]\n",
      " [list([-0.54659076, 0.43720251, 0.33731476, Ellipsis, -0.14207906, -1.1443808, -0.91492596])]\n",
      " [list([-1.21534918, 1.5612377, 0.92176586, Ellipsis, 0.06946363, -0.72801644, -0.43195787])]\n",
      " [list([0.75335262, -2.11387597, -0.41100697, Ellipsis, -0.7909827, -1.17350894, -0.22717668])]]\n"
     ]
    }
   ],
   "source": [
    "import numpy as np\n",
    "\n",
    "arr = np.array([[-0.75822486, -0.43229014,  0.18541917, ..., -1.10000169,\n",
    "         1.16629713,  0.91563679],\n",
    "       [ 0.25210152,  0.30844877, -0.27567761, ..., -1.61397922,\n",
    "        -0.29975758, -0.39618167],\n",
    "       [ 1.09509164,  1.05223176, -0.80398716, ..., -0.23759388,\n",
    "        -0.43062759, -1.21940514],\n",
    "       ...,\n",
    "       [-0.54659076,  0.43720251,  0.33731476, ..., -0.14207906,\n",
    "        -1.1443808 , -0.91492596],\n",
    "       [-1.21534918,  1.5612377 ,  0.92176586, ...,  0.06946363,\n",
    "        -0.72801644, -0.43195787],\n",
    "       [ 0.75335262, -2.11387597, -0.41100697, ..., -0.7909827 ,\n",
    "        -1.17350894, -0.22717668]])\n",
    "\n",
    "newarr = arr.reshape(-1,1)\n",
    "\n",
    "print(newarr)"
   ]
  },
  {
   "cell_type": "markdown",
   "id": "0a69afca",
   "metadata": {},
   "source": [
    "# Exploring Dataset\n",
    "1.Shape of dataset 2.Count of Null values 3.checking information 4.Statisitics of dataset 5.data dtypes 6.Checking sample 7.Transform the dataset"
   ]
  },
  {
   "cell_type": "code",
   "execution_count": 87,
   "id": "c5f4154b",
   "metadata": {},
   "outputs": [],
   "source": [
    "df = df.rename(columns={'CS-':'Culture and Social Studies','MT-':'Maths','EL-':'Element','HS-':'Hindi and Sanskrit','HS-/':'Hindi_Sanskrit'}) "
   ]
  },
  {
   "cell_type": "code",
   "execution_count": 88,
   "id": "a7e2d861",
   "metadata": {},
   "outputs": [],
   "source": [
    "#Pre-processing the columns names\n",
    "from string import digits\n",
    "\n",
    "#Removing tab spaces\n",
    "df.columns = df.columns.str.replace('\\t','')\n",
    "\n",
    "#Removing digits\n",
    "remove_digits = str.maketrans('', '', digits)\n",
    "df.columns = df.columns.str.translate(remove_digits)\n",
    "\n",
    "#Removing leading and trailling spaces\n",
    "df.columns = df.columns.str.strip()"
   ]
  },
  {
   "cell_type": "code",
   "execution_count": 89,
   "id": "8ffebb7a",
   "metadata": {},
   "outputs": [
    {
     "data": {
      "text/plain": [
       "(571, 43)"
      ]
     },
     "execution_count": 89,
     "metadata": {},
     "output_type": "execute_result"
    }
   ],
   "source": [
    " #checking  the shape of dataframe:\n",
    "df.shape"
   ]
  },
  {
   "cell_type": "code",
   "execution_count": 90,
   "id": "7a7e5b36",
   "metadata": {},
   "outputs": [
    {
     "name": "stdout",
     "output_type": "stream",
     "text": [
      "<class 'pandas.core.frame.DataFrame'>\n",
      "RangeIndex: 571 entries, 0 to 570\n",
      "Data columns (total 43 columns):\n",
      " #   Column    Non-Null Count  Dtype  \n",
      "---  ------    --------------  -----  \n",
      " 0   Seat No.  571 non-null    object \n",
      " 1   PH-       571 non-null    object \n",
      " 2   HS-       571 non-null    object \n",
      " 3   CY-       570 non-null    object \n",
      " 4   HS-/      570 non-null    object \n",
      " 5   MT-       569 non-null    object \n",
      " 6   CS-       571 non-null    object \n",
      " 7   CS-       569 non-null    object \n",
      " 8   EL-       569 non-null    object \n",
      " 9   EE-       569 non-null    object \n",
      " 10  ME-       569 non-null    object \n",
      " 11  CS-       569 non-null    object \n",
      " 12  HS-/      566 non-null    object \n",
      " 13  MT-       566 non-null    object \n",
      " 14  EE-       564 non-null    object \n",
      " 15  MT-       564 non-null    object \n",
      " 16  CS-       564 non-null    object \n",
      " 17  CS-       566 non-null    object \n",
      " 18  CS-       566 non-null    object \n",
      " 19  CS-       565 non-null    object \n",
      " 20  EE-       565 non-null    object \n",
      " 21  CS-       565 non-null    object \n",
      " 22  CS-       565 non-null    object \n",
      " 23  MT-       562 non-null    object \n",
      " 24  EF-       561 non-null    object \n",
      " 25  HS-       561 non-null    object \n",
      " 26  CS-       561 non-null    object \n",
      " 27  CS-       561 non-null    object \n",
      " 28  TC-       561 non-null    object \n",
      " 29  MT-       561 non-null    object \n",
      " 30  EL-       562 non-null    object \n",
      " 31  CS-       562 non-null    object \n",
      " 32  CS-       562 non-null    object \n",
      " 33  CS-       561 non-null    object \n",
      " 34  CS-       559 non-null    object \n",
      " 35  CS-       559 non-null    object \n",
      " 36  CS-       559 non-null    object \n",
      " 37  CS-       486 non-null    object \n",
      " 38  CS-       558 non-null    object \n",
      " 39  CS-       558 non-null    object \n",
      " 40  CS-       557 non-null    object \n",
      " 41  CS-       492 non-null    object \n",
      " 42  CGPA      571 non-null    float64\n",
      "dtypes: float64(1), object(42)\n",
      "memory usage: 191.9+ KB\n"
     ]
    }
   ],
   "source": [
    "#Let's Get The Detail Data Info To Understand Each Independent Attribute, it's data type and its meaning\n",
    "df.info()"
   ]
  },
  {
   "cell_type": "code",
   "execution_count": 91,
   "id": "244762ad",
   "metadata": {},
   "outputs": [
    {
     "data": {
      "text/html": [
       "<div>\n",
       "<style scoped>\n",
       "    .dataframe tbody tr th:only-of-type {\n",
       "        vertical-align: middle;\n",
       "    }\n",
       "\n",
       "    .dataframe tbody tr th {\n",
       "        vertical-align: top;\n",
       "    }\n",
       "\n",
       "    .dataframe thead th {\n",
       "        text-align: right;\n",
       "    }\n",
       "</style>\n",
       "<table border=\"1\" class=\"dataframe\">\n",
       "  <thead>\n",
       "    <tr style=\"text-align: right;\">\n",
       "      <th></th>\n",
       "      <th>Seat No.</th>\n",
       "      <th>PH-</th>\n",
       "      <th>HS-</th>\n",
       "      <th>CY-</th>\n",
       "      <th>HS-/</th>\n",
       "      <th>MT-</th>\n",
       "      <th>CS-</th>\n",
       "      <th>CS-</th>\n",
       "      <th>EL-</th>\n",
       "      <th>EE-</th>\n",
       "      <th>...</th>\n",
       "      <th>CS-</th>\n",
       "      <th>CS-</th>\n",
       "      <th>CS-</th>\n",
       "      <th>CS-</th>\n",
       "      <th>CS-</th>\n",
       "      <th>CS-</th>\n",
       "      <th>CS-</th>\n",
       "      <th>CS-</th>\n",
       "      <th>CS-</th>\n",
       "      <th>CGPA</th>\n",
       "    </tr>\n",
       "  </thead>\n",
       "  <tbody>\n",
       "    <tr>\n",
       "      <th>128</th>\n",
       "      <td>CS-97129</td>\n",
       "      <td>A-</td>\n",
       "      <td>C</td>\n",
       "      <td>B-</td>\n",
       "      <td>B</td>\n",
       "      <td>C</td>\n",
       "      <td>A</td>\n",
       "      <td>B+</td>\n",
       "      <td>A-</td>\n",
       "      <td>A-</td>\n",
       "      <td>...</td>\n",
       "      <td>C+</td>\n",
       "      <td>C</td>\n",
       "      <td>B</td>\n",
       "      <td>B-</td>\n",
       "      <td>A</td>\n",
       "      <td>A</td>\n",
       "      <td>B-</td>\n",
       "      <td>B</td>\n",
       "      <td>A-</td>\n",
       "      <td>3.030</td>\n",
       "    </tr>\n",
       "    <tr>\n",
       "      <th>182</th>\n",
       "      <td>CS-97183</td>\n",
       "      <td>A</td>\n",
       "      <td>A-</td>\n",
       "      <td>A-</td>\n",
       "      <td>A</td>\n",
       "      <td>A</td>\n",
       "      <td>A-</td>\n",
       "      <td>A</td>\n",
       "      <td>B</td>\n",
       "      <td>A-</td>\n",
       "      <td>...</td>\n",
       "      <td>B-</td>\n",
       "      <td>A</td>\n",
       "      <td>A</td>\n",
       "      <td>B+</td>\n",
       "      <td>A</td>\n",
       "      <td>A-</td>\n",
       "      <td>A-</td>\n",
       "      <td>A-</td>\n",
       "      <td>A-</td>\n",
       "      <td>3.736</td>\n",
       "    </tr>\n",
       "    <tr>\n",
       "      <th>217</th>\n",
       "      <td>CS-97218</td>\n",
       "      <td>D+</td>\n",
       "      <td>C</td>\n",
       "      <td>C+</td>\n",
       "      <td>D</td>\n",
       "      <td>D</td>\n",
       "      <td>B+</td>\n",
       "      <td>C-</td>\n",
       "      <td>C-</td>\n",
       "      <td>A-</td>\n",
       "      <td>...</td>\n",
       "      <td>D+</td>\n",
       "      <td>C-</td>\n",
       "      <td>B-</td>\n",
       "      <td>C</td>\n",
       "      <td>B</td>\n",
       "      <td>A-</td>\n",
       "      <td>C</td>\n",
       "      <td>D</td>\n",
       "      <td>A-</td>\n",
       "      <td>1.909</td>\n",
       "    </tr>\n",
       "    <tr>\n",
       "      <th>232</th>\n",
       "      <td>CS-97233</td>\n",
       "      <td>A-</td>\n",
       "      <td>A</td>\n",
       "      <td>A-</td>\n",
       "      <td>A-</td>\n",
       "      <td>A-</td>\n",
       "      <td>A+</td>\n",
       "      <td>A-</td>\n",
       "      <td>A-</td>\n",
       "      <td>A-</td>\n",
       "      <td>...</td>\n",
       "      <td>A-</td>\n",
       "      <td>A-</td>\n",
       "      <td>B+</td>\n",
       "      <td>B+</td>\n",
       "      <td>A</td>\n",
       "      <td>A</td>\n",
       "      <td>A</td>\n",
       "      <td>A-</td>\n",
       "      <td>A</td>\n",
       "      <td>3.727</td>\n",
       "    </tr>\n",
       "    <tr>\n",
       "      <th>348</th>\n",
       "      <td>CS-97349</td>\n",
       "      <td>D</td>\n",
       "      <td>D</td>\n",
       "      <td>D</td>\n",
       "      <td>D</td>\n",
       "      <td>C-</td>\n",
       "      <td>C-</td>\n",
       "      <td>C-</td>\n",
       "      <td>C+</td>\n",
       "      <td>C</td>\n",
       "      <td>...</td>\n",
       "      <td>A</td>\n",
       "      <td>D+</td>\n",
       "      <td>C+</td>\n",
       "      <td>D</td>\n",
       "      <td>C-</td>\n",
       "      <td>B</td>\n",
       "      <td>D+</td>\n",
       "      <td>B+</td>\n",
       "      <td>NaN</td>\n",
       "      <td>2.084</td>\n",
       "    </tr>\n",
       "  </tbody>\n",
       "</table>\n",
       "<p>5 rows × 43 columns</p>\n",
       "</div>"
      ],
      "text/plain": [
       "     Seat No. PH- HS- CY- HS-/ MT- CS- CS- EL- EE-  ... CS- CS- CS- CS- CS-  \\\n",
       "128  CS-97129  A-   C  B-    B   C   A  B+  A-  A-  ...  C+   C   B  B-   A   \n",
       "182  CS-97183   A  A-  A-    A   A  A-   A   B  A-  ...  B-   A   A  B+   A   \n",
       "217  CS-97218  D+   C  C+    D   D  B+  C-  C-  A-  ...  D+  C-  B-   C   B   \n",
       "232  CS-97233  A-   A  A-   A-  A-  A+  A-  A-  A-  ...  A-  A-  B+  B+   A   \n",
       "348  CS-97349   D   D   D    D  C-  C-  C-  C+   C  ...   A  D+  C+   D  C-   \n",
       "\n",
       "    CS- CS- CS-  CS-   CGPA  \n",
       "128   A  B-   B   A-  3.030  \n",
       "182  A-  A-  A-   A-  3.736  \n",
       "217  A-   C   D   A-  1.909  \n",
       "232   A   A  A-    A  3.727  \n",
       "348   B  D+  B+  NaN  2.084  \n",
       "\n",
       "[5 rows x 43 columns]"
      ]
     },
     "execution_count": 91,
     "metadata": {},
     "output_type": "execute_result"
    }
   ],
   "source": [
    "#display sample(5)\n",
    "df.sample(5)"
   ]
  },
  {
   "cell_type": "code",
   "execution_count": 92,
   "id": "de0ca188",
   "metadata": {},
   "outputs": [
    {
     "data": {
      "text/plain": [
       "Seat No.     object\n",
       "PH-          object\n",
       "HS-          object\n",
       "CY-          object\n",
       "HS-/         object\n",
       "MT-          object\n",
       "CS-          object\n",
       "CS-          object\n",
       "EL-          object\n",
       "EE-          object\n",
       "ME-          object\n",
       "CS-          object\n",
       "HS-/         object\n",
       "MT-          object\n",
       "EE-          object\n",
       "MT-          object\n",
       "CS-          object\n",
       "CS-          object\n",
       "CS-          object\n",
       "CS-          object\n",
       "EE-          object\n",
       "CS-          object\n",
       "CS-          object\n",
       "MT-          object\n",
       "EF-          object\n",
       "HS-          object\n",
       "CS-          object\n",
       "CS-          object\n",
       "TC-          object\n",
       "MT-          object\n",
       "EL-          object\n",
       "CS-          object\n",
       "CS-          object\n",
       "CS-          object\n",
       "CS-          object\n",
       "CS-          object\n",
       "CS-          object\n",
       "CS-          object\n",
       "CS-          object\n",
       "CS-          object\n",
       "CS-          object\n",
       "CS-          object\n",
       "CGPA        float64\n",
       "dtype: object"
      ]
     },
     "execution_count": 92,
     "metadata": {},
     "output_type": "execute_result"
    }
   ],
   "source": [
    "#cheking datatype\n",
    "df.dtypes"
   ]
  },
  {
   "cell_type": "code",
   "execution_count": 93,
   "id": "3e24c3e0",
   "metadata": {},
   "outputs": [
    {
     "data": {
      "text/html": [
       "<div>\n",
       "<style scoped>\n",
       "    .dataframe tbody tr th:only-of-type {\n",
       "        vertical-align: middle;\n",
       "    }\n",
       "\n",
       "    .dataframe tbody tr th {\n",
       "        vertical-align: top;\n",
       "    }\n",
       "\n",
       "    .dataframe thead th {\n",
       "        text-align: right;\n",
       "    }\n",
       "</style>\n",
       "<table border=\"1\" class=\"dataframe\">\n",
       "  <thead>\n",
       "    <tr style=\"text-align: right;\">\n",
       "      <th></th>\n",
       "      <th>Seat No.</th>\n",
       "      <th>PH-</th>\n",
       "      <th>HS-</th>\n",
       "      <th>CY-</th>\n",
       "      <th>HS-/</th>\n",
       "      <th>MT-</th>\n",
       "      <th>CS-</th>\n",
       "      <th>CS-</th>\n",
       "      <th>EL-</th>\n",
       "      <th>EE-</th>\n",
       "      <th>...</th>\n",
       "      <th>CS-</th>\n",
       "      <th>CS-</th>\n",
       "      <th>CS-</th>\n",
       "      <th>CS-</th>\n",
       "      <th>CS-</th>\n",
       "      <th>CS-</th>\n",
       "      <th>CS-</th>\n",
       "      <th>CS-</th>\n",
       "      <th>CS-</th>\n",
       "      <th>CGPA</th>\n",
       "    </tr>\n",
       "  </thead>\n",
       "  <tbody>\n",
       "    <tr>\n",
       "      <th>0</th>\n",
       "      <td>False</td>\n",
       "      <td>False</td>\n",
       "      <td>False</td>\n",
       "      <td>False</td>\n",
       "      <td>False</td>\n",
       "      <td>False</td>\n",
       "      <td>False</td>\n",
       "      <td>False</td>\n",
       "      <td>False</td>\n",
       "      <td>False</td>\n",
       "      <td>...</td>\n",
       "      <td>False</td>\n",
       "      <td>False</td>\n",
       "      <td>False</td>\n",
       "      <td>False</td>\n",
       "      <td>False</td>\n",
       "      <td>False</td>\n",
       "      <td>False</td>\n",
       "      <td>False</td>\n",
       "      <td>False</td>\n",
       "      <td>False</td>\n",
       "    </tr>\n",
       "    <tr>\n",
       "      <th>1</th>\n",
       "      <td>False</td>\n",
       "      <td>False</td>\n",
       "      <td>False</td>\n",
       "      <td>False</td>\n",
       "      <td>False</td>\n",
       "      <td>False</td>\n",
       "      <td>False</td>\n",
       "      <td>False</td>\n",
       "      <td>False</td>\n",
       "      <td>False</td>\n",
       "      <td>...</td>\n",
       "      <td>False</td>\n",
       "      <td>False</td>\n",
       "      <td>False</td>\n",
       "      <td>False</td>\n",
       "      <td>False</td>\n",
       "      <td>False</td>\n",
       "      <td>False</td>\n",
       "      <td>False</td>\n",
       "      <td>False</td>\n",
       "      <td>False</td>\n",
       "    </tr>\n",
       "    <tr>\n",
       "      <th>2</th>\n",
       "      <td>False</td>\n",
       "      <td>False</td>\n",
       "      <td>False</td>\n",
       "      <td>False</td>\n",
       "      <td>False</td>\n",
       "      <td>False</td>\n",
       "      <td>False</td>\n",
       "      <td>False</td>\n",
       "      <td>False</td>\n",
       "      <td>False</td>\n",
       "      <td>...</td>\n",
       "      <td>False</td>\n",
       "      <td>False</td>\n",
       "      <td>False</td>\n",
       "      <td>False</td>\n",
       "      <td>False</td>\n",
       "      <td>False</td>\n",
       "      <td>False</td>\n",
       "      <td>False</td>\n",
       "      <td>False</td>\n",
       "      <td>False</td>\n",
       "    </tr>\n",
       "    <tr>\n",
       "      <th>3</th>\n",
       "      <td>False</td>\n",
       "      <td>False</td>\n",
       "      <td>False</td>\n",
       "      <td>False</td>\n",
       "      <td>False</td>\n",
       "      <td>False</td>\n",
       "      <td>False</td>\n",
       "      <td>False</td>\n",
       "      <td>False</td>\n",
       "      <td>False</td>\n",
       "      <td>...</td>\n",
       "      <td>False</td>\n",
       "      <td>False</td>\n",
       "      <td>False</td>\n",
       "      <td>False</td>\n",
       "      <td>False</td>\n",
       "      <td>False</td>\n",
       "      <td>False</td>\n",
       "      <td>False</td>\n",
       "      <td>False</td>\n",
       "      <td>False</td>\n",
       "    </tr>\n",
       "    <tr>\n",
       "      <th>4</th>\n",
       "      <td>False</td>\n",
       "      <td>False</td>\n",
       "      <td>False</td>\n",
       "      <td>False</td>\n",
       "      <td>False</td>\n",
       "      <td>False</td>\n",
       "      <td>False</td>\n",
       "      <td>False</td>\n",
       "      <td>False</td>\n",
       "      <td>False</td>\n",
       "      <td>...</td>\n",
       "      <td>False</td>\n",
       "      <td>False</td>\n",
       "      <td>False</td>\n",
       "      <td>False</td>\n",
       "      <td>False</td>\n",
       "      <td>False</td>\n",
       "      <td>False</td>\n",
       "      <td>False</td>\n",
       "      <td>False</td>\n",
       "      <td>False</td>\n",
       "    </tr>\n",
       "    <tr>\n",
       "      <th>...</th>\n",
       "      <td>...</td>\n",
       "      <td>...</td>\n",
       "      <td>...</td>\n",
       "      <td>...</td>\n",
       "      <td>...</td>\n",
       "      <td>...</td>\n",
       "      <td>...</td>\n",
       "      <td>...</td>\n",
       "      <td>...</td>\n",
       "      <td>...</td>\n",
       "      <td>...</td>\n",
       "      <td>...</td>\n",
       "      <td>...</td>\n",
       "      <td>...</td>\n",
       "      <td>...</td>\n",
       "      <td>...</td>\n",
       "      <td>...</td>\n",
       "      <td>...</td>\n",
       "      <td>...</td>\n",
       "      <td>...</td>\n",
       "      <td>...</td>\n",
       "    </tr>\n",
       "    <tr>\n",
       "      <th>566</th>\n",
       "      <td>False</td>\n",
       "      <td>False</td>\n",
       "      <td>False</td>\n",
       "      <td>False</td>\n",
       "      <td>False</td>\n",
       "      <td>False</td>\n",
       "      <td>False</td>\n",
       "      <td>False</td>\n",
       "      <td>False</td>\n",
       "      <td>False</td>\n",
       "      <td>...</td>\n",
       "      <td>False</td>\n",
       "      <td>False</td>\n",
       "      <td>False</td>\n",
       "      <td>False</td>\n",
       "      <td>False</td>\n",
       "      <td>False</td>\n",
       "      <td>False</td>\n",
       "      <td>False</td>\n",
       "      <td>False</td>\n",
       "      <td>False</td>\n",
       "    </tr>\n",
       "    <tr>\n",
       "      <th>567</th>\n",
       "      <td>False</td>\n",
       "      <td>False</td>\n",
       "      <td>False</td>\n",
       "      <td>False</td>\n",
       "      <td>False</td>\n",
       "      <td>False</td>\n",
       "      <td>False</td>\n",
       "      <td>False</td>\n",
       "      <td>False</td>\n",
       "      <td>False</td>\n",
       "      <td>...</td>\n",
       "      <td>False</td>\n",
       "      <td>False</td>\n",
       "      <td>False</td>\n",
       "      <td>False</td>\n",
       "      <td>False</td>\n",
       "      <td>False</td>\n",
       "      <td>False</td>\n",
       "      <td>False</td>\n",
       "      <td>False</td>\n",
       "      <td>False</td>\n",
       "    </tr>\n",
       "    <tr>\n",
       "      <th>568</th>\n",
       "      <td>False</td>\n",
       "      <td>False</td>\n",
       "      <td>False</td>\n",
       "      <td>False</td>\n",
       "      <td>False</td>\n",
       "      <td>False</td>\n",
       "      <td>False</td>\n",
       "      <td>False</td>\n",
       "      <td>False</td>\n",
       "      <td>False</td>\n",
       "      <td>...</td>\n",
       "      <td>False</td>\n",
       "      <td>False</td>\n",
       "      <td>False</td>\n",
       "      <td>False</td>\n",
       "      <td>False</td>\n",
       "      <td>False</td>\n",
       "      <td>False</td>\n",
       "      <td>False</td>\n",
       "      <td>False</td>\n",
       "      <td>False</td>\n",
       "    </tr>\n",
       "    <tr>\n",
       "      <th>569</th>\n",
       "      <td>False</td>\n",
       "      <td>False</td>\n",
       "      <td>False</td>\n",
       "      <td>False</td>\n",
       "      <td>False</td>\n",
       "      <td>False</td>\n",
       "      <td>False</td>\n",
       "      <td>False</td>\n",
       "      <td>False</td>\n",
       "      <td>False</td>\n",
       "      <td>...</td>\n",
       "      <td>False</td>\n",
       "      <td>False</td>\n",
       "      <td>False</td>\n",
       "      <td>False</td>\n",
       "      <td>False</td>\n",
       "      <td>False</td>\n",
       "      <td>False</td>\n",
       "      <td>False</td>\n",
       "      <td>False</td>\n",
       "      <td>False</td>\n",
       "    </tr>\n",
       "    <tr>\n",
       "      <th>570</th>\n",
       "      <td>False</td>\n",
       "      <td>False</td>\n",
       "      <td>False</td>\n",
       "      <td>False</td>\n",
       "      <td>False</td>\n",
       "      <td>False</td>\n",
       "      <td>False</td>\n",
       "      <td>False</td>\n",
       "      <td>False</td>\n",
       "      <td>False</td>\n",
       "      <td>...</td>\n",
       "      <td>False</td>\n",
       "      <td>False</td>\n",
       "      <td>False</td>\n",
       "      <td>False</td>\n",
       "      <td>False</td>\n",
       "      <td>False</td>\n",
       "      <td>False</td>\n",
       "      <td>False</td>\n",
       "      <td>False</td>\n",
       "      <td>False</td>\n",
       "    </tr>\n",
       "  </tbody>\n",
       "</table>\n",
       "<p>571 rows × 43 columns</p>\n",
       "</div>"
      ],
      "text/plain": [
       "     Seat No.    PH-    HS-    CY-   HS-/    MT-    CS-    CS-    EL-    EE-  \\\n",
       "0       False  False  False  False  False  False  False  False  False  False   \n",
       "1       False  False  False  False  False  False  False  False  False  False   \n",
       "2       False  False  False  False  False  False  False  False  False  False   \n",
       "3       False  False  False  False  False  False  False  False  False  False   \n",
       "4       False  False  False  False  False  False  False  False  False  False   \n",
       "..        ...    ...    ...    ...    ...    ...    ...    ...    ...    ...   \n",
       "566     False  False  False  False  False  False  False  False  False  False   \n",
       "567     False  False  False  False  False  False  False  False  False  False   \n",
       "568     False  False  False  False  False  False  False  False  False  False   \n",
       "569     False  False  False  False  False  False  False  False  False  False   \n",
       "570     False  False  False  False  False  False  False  False  False  False   \n",
       "\n",
       "     ...    CS-    CS-    CS-    CS-    CS-    CS-    CS-    CS-    CS-   CGPA  \n",
       "0    ...  False  False  False  False  False  False  False  False  False  False  \n",
       "1    ...  False  False  False  False  False  False  False  False  False  False  \n",
       "2    ...  False  False  False  False  False  False  False  False  False  False  \n",
       "3    ...  False  False  False  False  False  False  False  False  False  False  \n",
       "4    ...  False  False  False  False  False  False  False  False  False  False  \n",
       "..   ...    ...    ...    ...    ...    ...    ...    ...    ...    ...    ...  \n",
       "566  ...  False  False  False  False  False  False  False  False  False  False  \n",
       "567  ...  False  False  False  False  False  False  False  False  False  False  \n",
       "568  ...  False  False  False  False  False  False  False  False  False  False  \n",
       "569  ...  False  False  False  False  False  False  False  False  False  False  \n",
       "570  ...  False  False  False  False  False  False  False  False  False  False  \n",
       "\n",
       "[571 rows x 43 columns]"
      ]
     },
     "execution_count": 93,
     "metadata": {},
     "output_type": "execute_result"
    }
   ],
   "source": [
    "#check null values in the dataframe: \n",
    "df.isnull()"
   ]
  },
  {
   "cell_type": "code",
   "execution_count": 94,
   "id": "2459f9d2",
   "metadata": {},
   "outputs": [
    {
     "data": {
      "text/plain": [
       "Seat No.     0\n",
       "PH-          0\n",
       "HS-          0\n",
       "CY-          1\n",
       "HS-/         1\n",
       "MT-          2\n",
       "CS-          0\n",
       "CS-          2\n",
       "EL-          2\n",
       "EE-          2\n",
       "ME-          2\n",
       "CS-          2\n",
       "HS-/         5\n",
       "MT-          5\n",
       "EE-          7\n",
       "MT-          7\n",
       "CS-          7\n",
       "CS-          5\n",
       "CS-          5\n",
       "CS-          6\n",
       "EE-          6\n",
       "CS-          6\n",
       "CS-          6\n",
       "MT-          9\n",
       "EF-         10\n",
       "HS-         10\n",
       "CS-         10\n",
       "CS-         10\n",
       "TC-         10\n",
       "MT-         10\n",
       "EL-          9\n",
       "CS-          9\n",
       "CS-          9\n",
       "CS-         10\n",
       "CS-         12\n",
       "CS-         12\n",
       "CS-         12\n",
       "CS-         85\n",
       "CS-         13\n",
       "CS-         13\n",
       "CS-         14\n",
       "CS-         79\n",
       "CGPA         0\n",
       "dtype: int64"
      ]
     },
     "execution_count": 94,
     "metadata": {},
     "output_type": "execute_result"
    }
   ],
   "source": [
    "#checking null values:\n",
    "df.isnull().sum()"
   ]
  },
  {
   "cell_type": "code",
   "execution_count": 95,
   "id": "64cf838e",
   "metadata": {},
   "outputs": [
    {
     "data": {
      "text/plain": [
       "True"
      ]
     },
     "execution_count": 95,
     "metadata": {},
     "output_type": "execute_result"
    }
   ],
   "source": [
    "#checking the null values:\n",
    "df.isnull().sum().any()"
   ]
  },
  {
   "cell_type": "markdown",
   "id": "cf6802cc",
   "metadata": {},
   "source": [
    "-There is no null value present in the dataset."
   ]
  },
  {
   "cell_type": "code",
   "execution_count": 96,
   "id": "14039b07",
   "metadata": {},
   "outputs": [
    {
     "data": {
      "text/plain": [
       "Seat No.    571\n",
       "PH-          13\n",
       "HS-          12\n",
       "CY-          13\n",
       "HS-/         13\n",
       "MT-          13\n",
       "CS-          11\n",
       "CS-          13\n",
       "EL-          13\n",
       "EE-          12\n",
       "ME-          13\n",
       "CS-          14\n",
       "HS-/         13\n",
       "MT-          14\n",
       "EE-          13\n",
       "MT-          14\n",
       "CS-          14\n",
       "CS-          14\n",
       "CS-          13\n",
       "CS-          13\n",
       "EE-          13\n",
       "CS-          12\n",
       "CS-          14\n",
       "MT-          12\n",
       "EF-          12\n",
       "HS-          14\n",
       "CS-          12\n",
       "CS-          11\n",
       "TC-          12\n",
       "MT-          12\n",
       "EL-          13\n",
       "CS-          14\n",
       "CS-          13\n",
       "CS-          14\n",
       "CS-          12\n",
       "CS-          11\n",
       "CS-          13\n",
       "CS-          14\n",
       "CS-          13\n",
       "CS-          12\n",
       "CS-          12\n",
       "CS-          13\n",
       "CGPA        491\n",
       "dtype: int64"
      ]
     },
     "execution_count": 96,
     "metadata": {},
     "output_type": "execute_result"
    }
   ],
   "source": [
    "#check unique no.\n",
    "df.nunique()"
   ]
  },
  {
   "cell_type": "raw",
   "id": "7d8a5926",
   "metadata": {},
   "source": [
    "-All the columns are of categorical types. There are no identifier or constant columns"
   ]
  },
  {
   "cell_type": "code",
   "execution_count": 97,
   "id": "d587669b",
   "metadata": {},
   "outputs": [
    {
     "data": {
      "text/html": [
       "<div>\n",
       "<style scoped>\n",
       "    .dataframe tbody tr th:only-of-type {\n",
       "        vertical-align: middle;\n",
       "    }\n",
       "\n",
       "    .dataframe tbody tr th {\n",
       "        vertical-align: top;\n",
       "    }\n",
       "\n",
       "    .dataframe thead th {\n",
       "        text-align: right;\n",
       "    }\n",
       "</style>\n",
       "<table border=\"1\" class=\"dataframe\">\n",
       "  <thead>\n",
       "    <tr style=\"text-align: right;\">\n",
       "      <th></th>\n",
       "      <th>CGPA</th>\n",
       "    </tr>\n",
       "  </thead>\n",
       "  <tbody>\n",
       "    <tr>\n",
       "      <th>count</th>\n",
       "      <td>571.000000</td>\n",
       "    </tr>\n",
       "    <tr>\n",
       "      <th>mean</th>\n",
       "      <td>2.954888</td>\n",
       "    </tr>\n",
       "    <tr>\n",
       "      <th>std</th>\n",
       "      <td>0.620552</td>\n",
       "    </tr>\n",
       "    <tr>\n",
       "      <th>min</th>\n",
       "      <td>0.800000</td>\n",
       "    </tr>\n",
       "    <tr>\n",
       "      <th>25%</th>\n",
       "      <td>2.538000</td>\n",
       "    </tr>\n",
       "    <tr>\n",
       "      <th>50%</th>\n",
       "      <td>3.029000</td>\n",
       "    </tr>\n",
       "    <tr>\n",
       "      <th>75%</th>\n",
       "      <td>3.451000</td>\n",
       "    </tr>\n",
       "    <tr>\n",
       "      <th>max</th>\n",
       "      <td>3.985000</td>\n",
       "    </tr>\n",
       "  </tbody>\n",
       "</table>\n",
       "</div>"
      ],
      "text/plain": [
       "             CGPA\n",
       "count  571.000000\n",
       "mean     2.954888\n",
       "std      0.620552\n",
       "min      0.800000\n",
       "25%      2.538000\n",
       "50%      3.029000\n",
       "75%      3.451000\n",
       "max      3.985000"
      ]
     },
     "execution_count": 97,
     "metadata": {},
     "output_type": "execute_result"
    }
   ],
   "source": [
    "#Statistical summary:\n",
    "df.describe()"
   ]
  },
  {
   "cell_type": "code",
   "execution_count": 98,
   "id": "7b1d8c41",
   "metadata": {},
   "outputs": [
    {
     "data": {
      "text/plain": [
       "<bound method NDFrame.describe of      Seat No. PH- HS- CY- HS-/ MT- CS- CS- EL- EE-  ... CS- CS- CS- CS- CS-  \\\n",
       "0    CS-97001  B-  D+  C-    C  C-  D+   D  C-  B-  ...  C-  C-  C-  C-  A-   \n",
       "1    CS-97002   A   D  D+    D  B-   C   D   A  D+  ...  D+   D   C   D  A-   \n",
       "2    CS-97003   A   B   A   B-  B+   A  B-  B+  A-  ...   B   B   A   C   A   \n",
       "3    CS-97004   D  C+  D+    D   D  A-  D+  C-   D  ...  D+   C  D+  C-  B-   \n",
       "4    CS-97005  A-  A-  A-   B+   A   A  A-  B+   A  ...  B-  B+  B+  B-  A-   \n",
       "..        ...  ..  ..  ..  ...  ..  ..  ..  ..  ..  ...  ..  ..  ..  ..  ..   \n",
       "566  CS-97567   B   A   A   A-  A+   A  A-  A-  A+  ...  A-  A-   A   A   A   \n",
       "567  CS-97568  A+   A   A    A   A   A   A  A-   A  ...  B+  B+   A   A  A-   \n",
       "568  CS-97569   B   A  A-   B+   A   A   A   A   A  ...  A-   B   A  B+   A   \n",
       "569  CS-97570   A  B+   D    A   D  D+  B-  C-  B-  ...   D   B   B  C-   D   \n",
       "570  CS-97571   C   D   D    C   C  D+   B  C+   C  ...  C+   C  B-   D   F   \n",
       "\n",
       "    CS- CS- CS- CS-   CGPA  \n",
       "0     A  C-   B  A-  2.205  \n",
       "1    B-   C   C   B  2.008  \n",
       "2     A   A  A-   A  3.608  \n",
       "3     B  C+  C+  C+  1.906  \n",
       "4     A  A-  A-   A  3.448  \n",
       "..   ..  ..  ..  ..    ...  \n",
       "566  B+  B+   B   A  3.798  \n",
       "567   B  A-   C  A-  3.772  \n",
       "568   C  B+  A-  A-  3.470  \n",
       "569   C   B  B-   C  2.193  \n",
       "570  C-  B+   D  C-  1.753  \n",
       "\n",
       "[571 rows x 43 columns]>"
      ]
     },
     "execution_count": 98,
     "metadata": {},
     "output_type": "execute_result"
    }
   ],
   "source": [
    "df.describe"
   ]
  },
  {
   "cell_type": "code",
   "execution_count": 99,
   "id": "2c1a26f4",
   "metadata": {
    "scrolled": false
   },
   "outputs": [
    {
     "data": {
      "text/html": [
       "<div>\n",
       "<style scoped>\n",
       "    .dataframe tbody tr th:only-of-type {\n",
       "        vertical-align: middle;\n",
       "    }\n",
       "\n",
       "    .dataframe tbody tr th {\n",
       "        vertical-align: top;\n",
       "    }\n",
       "\n",
       "    .dataframe thead th {\n",
       "        text-align: right;\n",
       "    }\n",
       "</style>\n",
       "<table border=\"1\" class=\"dataframe\">\n",
       "  <thead>\n",
       "    <tr style=\"text-align: right;\">\n",
       "      <th></th>\n",
       "      <th>CGPA</th>\n",
       "    </tr>\n",
       "  </thead>\n",
       "  <tbody>\n",
       "    <tr>\n",
       "      <th>count</th>\n",
       "      <td>571.000000</td>\n",
       "    </tr>\n",
       "    <tr>\n",
       "      <th>mean</th>\n",
       "      <td>2.954888</td>\n",
       "    </tr>\n",
       "    <tr>\n",
       "      <th>std</th>\n",
       "      <td>0.620552</td>\n",
       "    </tr>\n",
       "    <tr>\n",
       "      <th>min</th>\n",
       "      <td>0.800000</td>\n",
       "    </tr>\n",
       "    <tr>\n",
       "      <th>25%</th>\n",
       "      <td>2.538000</td>\n",
       "    </tr>\n",
       "    <tr>\n",
       "      <th>50%</th>\n",
       "      <td>3.029000</td>\n",
       "    </tr>\n",
       "    <tr>\n",
       "      <th>75%</th>\n",
       "      <td>3.451000</td>\n",
       "    </tr>\n",
       "    <tr>\n",
       "      <th>max</th>\n",
       "      <td>3.985000</td>\n",
       "    </tr>\n",
       "  </tbody>\n",
       "</table>\n",
       "</div>"
      ],
      "text/plain": [
       "             CGPA\n",
       "count  571.000000\n",
       "mean     2.954888\n",
       "std      0.620552\n",
       "min      0.800000\n",
       "25%      2.538000\n",
       "50%      3.029000\n",
       "75%      3.451000\n",
       "max      3.985000"
      ]
     },
     "execution_count": 99,
     "metadata": {},
     "output_type": "execute_result"
    }
   ],
   "source": [
    "#Transpose R into C :\n",
    "df.describe()"
   ]
  },
  {
   "cell_type": "markdown",
   "id": "415bfff6",
   "metadata": {},
   "source": [
    "As we can see from the above descriptive stats there seemsto be no missing values :-\n",
    "-Thus, these ambiguous values are filled with 'B' in the dataset."
   ]
  },
  {
   "cell_type": "markdown",
   "id": "e77f4249",
   "metadata": {},
   "source": [
    "# UNIVARITE ANALYSIS:"
   ]
  },
  {
   "cell_type": "markdown",
   "id": "fe4137d5",
   "metadata": {},
   "source": [
    "# Analysis on the basis of Various following factors:"
   ]
  },
  {
   "cell_type": "markdown",
   "id": "6b6d3d74",
   "metadata": {},
   "source": [
    "# lineplot:"
   ]
  },
  {
   "cell_type": "code",
   "execution_count": 100,
   "id": "40a111d0",
   "metadata": {},
   "outputs": [
    {
     "data": {
      "text/plain": [
       "<AxesSubplot:xlabel='PH-', ylabel='CGPA'>"
      ]
     },
     "execution_count": 100,
     "metadata": {},
     "output_type": "execute_result"
    },
    {
     "data": {
      "image/png": "[encoded data removed]",
      "text/plain": [
       "<Figure size 1080x576 with 1 Axes>"
      ]
     },
     "metadata": {
      "needs_background": "light"
     },
     "output_type": "display_data"
    }
   ],
   "source": [
    "plt.figure(figsize=(15,8))\n",
    "sns.lineplot(df['PH-'],\n",
    "              df['CGPA'])"
   ]
  },
  {
   "cell_type": "markdown",
   "id": "ed099cff",
   "metadata": {},
   "source": [
    "-As we can see Physics score is higher than 400."
   ]
  },
  {
   "cell_type": "code",
   "execution_count": 101,
   "id": "20ce871c",
   "metadata": {},
   "outputs": [
    {
     "data": {
      "text/plain": [
       "<AxesSubplot:xlabel='CY-', ylabel='CGPA'>"
      ]
     },
     "execution_count": 101,
     "metadata": {},
     "output_type": "execute_result"
    },
    {
     "data": {
      "image/png": "[encoded data removed]",
      "text/plain": [
       "<Figure size 1080x576 with 1 Axes>"
      ]
     },
     "metadata": {
      "needs_background": "light"
     },
     "output_type": "display_data"
    }
   ],
   "source": [
    "plt.figure(figsize=(15,8))\n",
    "sns.lineplot(df['CY-'],\n",
    "              df['CGPA'])"
   ]
  },
  {
   "cell_type": "markdown",
   "id": "eb9c5cf0",
   "metadata": {},
   "source": [
    "# As we can see in Chemistry score is higher than 400."
   ]
  },
  {
   "cell_type": "markdown",
   "id": "c13148b9",
   "metadata": {},
   "source": [
    "# Stripplot:"
   ]
  },
  {
   "cell_type": "code",
   "execution_count": 104,
   "id": "28066754",
   "metadata": {},
   "outputs": [
    {
     "data": {
      "text/plain": [
       "<AxesSubplot:xlabel='PH-', ylabel='CGPA'>"
      ]
     },
     "execution_count": 104,
     "metadata": {},
     "output_type": "execute_result"
    },
    {
     "data": {
      "image/png": "[encoded data removed]",
      "text/plain": [
       "<Figure size 864x720 with 1 Axes>"
      ]
     },
     "metadata": {
      "needs_background": "light"
     },
     "output_type": "display_data"
    }
   ],
   "source": [
    "plt.figure(figsize=(12,10))\n",
    "sns.stripplot(df['PH-'],\n",
    "              df['CGPA'])"
   ]
  },
  {
   "cell_type": "code",
   "execution_count": 138,
   "id": "d83e7997",
   "metadata": {},
   "outputs": [
    {
     "data": {
      "text/plain": [
       "<AxesSubplot:xlabel='CY-', ylabel='CGPA'>"
      ]
     },
     "execution_count": 138,
     "metadata": {},
     "output_type": "execute_result"
    },
    {
     "data": {
      "image/png": "[encoded data removed]",
      "text/plain": [
       "<Figure size 864x720 with 1 Axes>"
      ]
     },
     "metadata": {
      "needs_background": "light"
     },
     "output_type": "display_data"
    }
   ],
   "source": [
    "plt.figure(figsize=(12,10))\n",
    "sns.stripplot(df['CY-'],\n",
    "              df['CGPA'])"
   ]
  },
  {
   "cell_type": "code",
   "execution_count": 106,
   "id": "78fd87ed",
   "metadata": {},
   "outputs": [
    {
     "data": {
      "text/plain": [
       "<AxesSubplot:>"
      ]
     },
     "execution_count": 106,
     "metadata": {},
     "output_type": "execute_result"
    },
    {
     "data": {
      "image/png": "[encoded data removed]",
      "text/plain": [
       "<Figure size 1368x720 with 2 Axes>"
      ]
     },
     "metadata": {},
     "output_type": "display_data"
    }
   ],
   "source": [
    "#Correlation:\n",
    "# ploting heatmap\n",
    "import seaborn as sb\n",
    "plt.figure(figsize=[19,10],facecolor='Pink')\n",
    "sb.heatmap(df.corr(),annot=True)"
   ]
  },
  {
   "cell_type": "markdown",
   "id": "a5f24ba0",
   "metadata": {},
   "source": [
    "-As we can see CS-306 is correlated with EL-332 and CS-412 with CS-412/t.\n"
   ]
  },
  {
   "cell_type": "markdown",
   "id": "5f7d4532",
   "metadata": {},
   "source": [
    "# Processing the dataframe:"
   ]
  },
  {
   "cell_type": "code",
   "execution_count": 107,
   "id": "a6ab4a17",
   "metadata": {},
   "outputs": [],
   "source": [
    "#Separating the label from rest of the features\n",
    "x=df.copy()\n",
    "x.drop('CGPA',axis=1,inplace=True)\n",
    "y=df['CGPA']"
   ]
  },
  {
   "cell_type": "markdown",
   "id": "54a2071c",
   "metadata": {},
   "source": [
    "# Label Encoder:"
   ]
  },
  {
   "cell_type": "code",
   "execution_count": 108,
   "id": "7638afbc",
   "metadata": {},
   "outputs": [],
   "source": [
    "from sklearn.preprocessing import LabelEncoder \n",
    "# Fit the  transform:\n",
    "LE=LabelEncoder()\n",
    "df[\"CGPA\"]=LE.fit_transform(df[\"CGPA\"])"
   ]
  },
  {
   "cell_type": "code",
   "execution_count": 109,
   "id": "9aaa05d0",
   "metadata": {},
   "outputs": [
    {
     "data": {
      "text/plain": [
       "243    5\n",
       "256    3\n",
       "195    3\n",
       "363    3\n",
       "73     3\n",
       "      ..\n",
       "132    1\n",
       "55     1\n",
       "154    1\n",
       "56     1\n",
       "14     1\n",
       "Name: CGPA, Length: 491, dtype: int64"
      ]
     },
     "execution_count": 109,
     "metadata": {},
     "output_type": "execute_result"
    }
   ],
   "source": [
    " #COUNT_VALUE:\n",
    "df.CGPA.value_counts()"
   ]
  },
  {
   "cell_type": "markdown",
   "id": "2f23fb02",
   "metadata": {},
   "source": [
    "# Normalizing and Scalling the data (1-0 range)"
   ]
  },
  {
   "cell_type": "code",
   "execution_count": 110,
   "id": "be41241b",
   "metadata": {},
   "outputs": [],
   "source": [
    "## normalizing/Scalling the data  \n",
    "\n",
    "from sklearn.preprocessing import MinMaxScaler\n",
    "scaler = MinMaxScaler()\n"
   ]
  },
  {
   "cell_type": "code",
   "execution_count": 111,
   "id": "a8b240ea",
   "metadata": {},
   "outputs": [
    {
     "data": {
      "text/html": [
       "<div>\n",
       "<style scoped>\n",
       "    .dataframe tbody tr th:only-of-type {\n",
       "        vertical-align: middle;\n",
       "    }\n",
       "\n",
       "    .dataframe tbody tr th {\n",
       "        vertical-align: top;\n",
       "    }\n",
       "\n",
       "    .dataframe thead th {\n",
       "        text-align: right;\n",
       "    }\n",
       "</style>\n",
       "<table border=\"1\" class=\"dataframe\">\n",
       "  <thead>\n",
       "    <tr style=\"text-align: right;\">\n",
       "      <th></th>\n",
       "      <th>Seat No.</th>\n",
       "      <th>PH-</th>\n",
       "      <th>HS-</th>\n",
       "      <th>CY-</th>\n",
       "      <th>HS-/</th>\n",
       "      <th>MT-</th>\n",
       "      <th>CS-</th>\n",
       "      <th>CS-</th>\n",
       "      <th>EL-</th>\n",
       "      <th>EE-</th>\n",
       "      <th>...</th>\n",
       "      <th>CS-</th>\n",
       "      <th>CS-</th>\n",
       "      <th>CS-</th>\n",
       "      <th>CS-</th>\n",
       "      <th>CS-</th>\n",
       "      <th>CS-</th>\n",
       "      <th>CS-</th>\n",
       "      <th>CS-</th>\n",
       "      <th>CS-</th>\n",
       "      <th>CGPA</th>\n",
       "    </tr>\n",
       "  </thead>\n",
       "  <tbody>\n",
       "    <tr>\n",
       "      <th>0</th>\n",
       "      <td>CS-97001</td>\n",
       "      <td>B-</td>\n",
       "      <td>D+</td>\n",
       "      <td>C-</td>\n",
       "      <td>C</td>\n",
       "      <td>C-</td>\n",
       "      <td>D+</td>\n",
       "      <td>D</td>\n",
       "      <td>C-</td>\n",
       "      <td>B-</td>\n",
       "      <td>...</td>\n",
       "      <td>C-</td>\n",
       "      <td>C-</td>\n",
       "      <td>C-</td>\n",
       "      <td>C-</td>\n",
       "      <td>A-</td>\n",
       "      <td>A</td>\n",
       "      <td>C-</td>\n",
       "      <td>B</td>\n",
       "      <td>A-</td>\n",
       "      <td>72</td>\n",
       "    </tr>\n",
       "    <tr>\n",
       "      <th>1</th>\n",
       "      <td>CS-97002</td>\n",
       "      <td>A</td>\n",
       "      <td>D</td>\n",
       "      <td>D+</td>\n",
       "      <td>D</td>\n",
       "      <td>B-</td>\n",
       "      <td>C</td>\n",
       "      <td>D</td>\n",
       "      <td>A</td>\n",
       "      <td>D+</td>\n",
       "      <td>...</td>\n",
       "      <td>D+</td>\n",
       "      <td>D</td>\n",
       "      <td>C</td>\n",
       "      <td>D</td>\n",
       "      <td>A-</td>\n",
       "      <td>B-</td>\n",
       "      <td>C</td>\n",
       "      <td>C</td>\n",
       "      <td>B</td>\n",
       "      <td>48</td>\n",
       "    </tr>\n",
       "  </tbody>\n",
       "</table>\n",
       "<p>2 rows × 43 columns</p>\n",
       "</div>"
      ],
      "text/plain": [
       "   Seat No. PH- HS- CY- HS-/ MT- CS- CS- EL- EE-  ... CS- CS- CS- CS- CS- CS-  \\\n",
       "0  CS-97001  B-  D+  C-    C  C-  D+   D  C-  B-  ...  C-  C-  C-  C-  A-   A   \n",
       "1  CS-97002   A   D  D+    D  B-   C   D   A  D+  ...  D+   D   C   D  A-  B-   \n",
       "\n",
       "  CS- CS- CS- CGPA  \n",
       "0  C-   B  A-   72  \n",
       "1   C   C   B   48  \n",
       "\n",
       "[2 rows x 43 columns]"
      ]
     },
     "execution_count": 111,
     "metadata": {},
     "output_type": "execute_result"
    }
   ],
   "source": [
    "#checking upper 2 rows:\n",
    "df.head(2)"
   ]
  },
  {
   "cell_type": "code",
   "execution_count": 112,
   "id": "8b87b80d",
   "metadata": {},
   "outputs": [],
   "source": [
    "#importing power transformer:\n",
    "from sklearn.preprocessing import PowerTransformer"
   ]
  },
  {
   "cell_type": "code",
   "execution_count": null,
   "id": "022298a9",
   "metadata": {},
   "outputs": [],
   "source": [
    "#covert the transform value into the dataset ,we will get the values in the form of x:\n",
    "x=df\n",
    "x=x_new_pt"
   ]
  },
  {
   "cell_type": "code",
   "execution_count": null,
   "id": "88241a93",
   "metadata": {},
   "outputs": [],
   "source": [
    "#fitting power transformer:\n",
    "pt=PowerTransformer()\n",
    "x_new_pt=pt.fit_transform(x)\n",
    "x_new_pt"
   ]
  },
  {
   "cell_type": "raw",
   "id": "cc21699a",
   "metadata": {},
   "source": [
    "As we can  see there  are  outliers in  CY-105 ,MT-111 ,CS-106 "
   ]
  },
  {
   "cell_type": "markdown",
   "id": "93cab132",
   "metadata": {},
   "source": [
    "# OverSampling:"
   ]
  },
  {
   "cell_type": "code",
   "execution_count": null,
   "id": "75bfaa24",
   "metadata": {},
   "outputs": [],
   "source": [
    "from collections import Counter\n",
    "from sklearn.datasets import make_classification\n",
    "from imblearn.over_sampling import RandomOverSampler"
   ]
  },
  {
   "cell_type": "code",
   "execution_count": null,
   "id": "0cfe545a",
   "metadata": {},
   "outputs": [],
   "source": [
    "# define oversampling strategy\n",
    "oversample = RandomOverSampler(sampling_strategy='minority')"
   ]
  },
  {
   "cell_type": "code",
   "execution_count": null,
   "id": "7c486cfa",
   "metadata": {},
   "outputs": [],
   "source": [
    "# define oversampling strategy\n",
    "oversample = RandomOverSampler(sampling_strategy=0.5)"
   ]
  },
  {
   "cell_type": "code",
   "execution_count": null,
   "id": "e9fa0d9f",
   "metadata": {},
   "outputs": [],
   "source": [
    "# fit and apply the transform\n",
    "x_over, y_over = oversample.fit_resample(x, y)"
   ]
  },
  {
   "cell_type": "code",
   "execution_count": 119,
   "id": "63aa40fc",
   "metadata": {},
   "outputs": [],
   "source": [
    "# define dataset\n",
    "x, y = make_classification(n_samples=571, weights=[0.32], flip_y=0)"
   ]
  },
  {
   "cell_type": "code",
   "execution_count": null,
   "id": "90941fd2",
   "metadata": {},
   "outputs": [],
   "source": [
    "# example of random oversampling to balance the class distribution\n",
    "from collections import Counter\n",
    "from sklearn.datasets import make_classification\n",
    "from imblearn.over_sampling import RandomOverSampler\n",
    "# define dataset\n",
    "x, y = make_classification(n_samples=571, weights=[0.32], flip_y=0)\n",
    "# summarize class distribution\n",
    "print(Counter(y))\n",
    "# define oversampling strategy\n",
    "oversample = RandomOverSampler(sampling_strategy='auto')\n",
    "# fit and apply the transform\n",
    "x_over, y_over = oversample.fit_resample(x, y)\n",
    "# summarize class distribution\n",
    "print(Counter(y_over))"
   ]
  },
  {
   "cell_type": "markdown",
   "id": "237c25e8",
   "metadata": {},
   "source": [
    "# Train Test Split"
   ]
  },
  {
   "cell_type": "code",
   "execution_count": 121,
   "id": "33853de3",
   "metadata": {},
   "outputs": [],
   "source": [
    "#import train_test_split:\n",
    "from sklearn.model_selection import train_test_split"
   ]
  },
  {
   "cell_type": "code",
   "execution_count": 122,
   "id": "e9ff6d58",
   "metadata": {},
   "outputs": [],
   "source": [
    "x_train, x_test, x_train, x_test = train_test_split(x, y, test_size=0.25, random_state=1,stratify=y)"
   ]
  },
  {
   "cell_type": "code",
   "execution_count": 123,
   "id": "db99e8c9",
   "metadata": {},
   "outputs": [],
   "source": [
    "# # # Models to Fit & Evaluate\n",
    "\n",
    "#from sklearn.metrics import confusion_matrix, roc_curve, roc_auc_score, accuracy_score, precision_recall_curve\n",
    "from sklearn.metrics import confusion_matrix,classification_report,f1_score, precision_score, recall_score, roc_curve, auc, average_precision_score, roc_auc_score, accuracy_score, precision_recall_curve, f1_score\n",
    "from sklearn.linear_model import LogisticRegression\n",
    "from sklearn.neighbors import KNeighborsClassifier\n",
    "from sklearn.naive_bayes import GaussianNB\n",
    "from sklearn.tree import DecisionTreeClassifier\n",
    "from sklearn import model_selection\n",
    "from sklearn.model_selection import cross_val_score, GridSearchCV\n",
    "from sklearn.model_selection import KFold\n",
    "from sklearn.svm import SVC\n",
    "from sklearn.ensemble import RandomForestClassifier"
   ]
  },
  {
   "cell_type": "code",
   "execution_count": null,
   "id": "781d81f3",
   "metadata": {},
   "outputs": [],
   "source": [
    "#import lOGISTIC REGRESSION model:\n",
    "from sklearn.linear_model import LogisticRegression\n",
    "lr= LogisticRegression()\n",
    "lr.fit(X_train,y_train)\n",
    "predlr=lr.predict(X_test)\n",
    "pred_train_lr=lr.predict(X_train)\n",
    "print(\"Test Accuracy\",accuracy_score(y_test,predlr)*100)\n",
    "print(\"Training Accuracy\",accuracy_score(y_test,predlr)*100)\n",
    "print(confusion_matrix(y_test,predlr))\n",
    "print(classification_report(y_test,predlr))"
   ]
  },
  {
   "cell_type": "code",
   "execution_count": null,
   "id": "90d5e8ee",
   "metadata": {},
   "outputs": [],
   "source": [
    "#import KNN (KNeighborsClassifier) model:\n",
    "from sklearn.neighbors import KNeighborsClassifier\n",
    "KNN= KNeighborsClassifier()\n",
    "KNN.fit(X_train,y_train)\n",
    "predKNN=KNN.predict(X_test)\n",
    "pred_train_KNN=KNN.predict(X_train)\n",
    "print(\"Test Accuracy\",accuracy_score(y_test,predKNN)*100)\n",
    "print(\"Training Accuracy\",accuracy_score(y_test,predKNN)*100)\n",
    "print(confusion_matrix(y_test,predKNN))\n",
    "print(classification_report(y_test,predKNN)) "
   ]
  },
  {
   "cell_type": "code",
   "execution_count": null,
   "id": "ef96588a",
   "metadata": {},
   "outputs": [],
   "source": [
    "#import DecisontreeClassifier predicting accuracy for best quality of wine:\n",
    "from sklearn.tree import DecisionTreeClassifier\n",
    "dt=DecisionTreeClassifier()\n",
    "dt.fit(X_train,y_train)\n",
    "preddt=dt.predict(X_test)\n",
    "pred_train_dt=dt.predict(X_train)\n",
    "print(\"Test Accuracy\",accuracy_score(y_test,predlr)*100)\n",
    "print(\"Training Accuracy\",accuracy_score(y_test,predlr)*100)\n",
    "print(confusion_matrix(y_test,preddt))\n",
    "print(classification_report(y_test,preddt))"
   ]
  },
  {
   "cell_type": "code",
   "execution_count": null,
   "id": "477cc3ee",
   "metadata": {},
   "outputs": [],
   "source": [
    "#import RandomForestClassifier model:\n",
    "from sklearn.ensemble import RandomForestClassifier\n",
    "rdf = RandomForestClassifier()\n",
    "rdf.fit(X_train,y_train)\n",
    "predrdf=rdf.predict(X_test)\n",
    "pred_train_rdf=rdf.predict(X_train)\n",
    "print(\"Test Accuracy\",accuracy_score(y_test,predrdf)*100)\n",
    "print(\"Training Accuracy\",accuracy_score(y_test,predrdf)*100)\n",
    "print(confusion_matrix(y_test,predrdf))\n",
    "print(classification_report(y_test,predrdf))"
   ]
  },
  {
   "cell_type": "code",
   "execution_count": null,
   "id": "2dbea672",
   "metadata": {},
   "outputs": [],
   "source": [
    "#import SVM model:(support vector machine)\n",
    "from sklearn.svm import SVC\n",
    "svc=SVC()\n",
    "svc.fit(X_train,y_train)\n",
    "pred_svc=svc.predict(X_test)\n",
    "pred_train_svc=svc.predict(X_train)\n",
    "print(\"Test Accuracy\",accuracy_score(y_test,pred_svc)*100)\n",
    "print(\"Training Accuracy\",accuracy_score(y_test,pred_svc)*100)\n",
    "print(confusion_matrix(y_test,pred_svc))\n",
    "print(classification_report(y_test,pred_svc))"
   ]
  },
  {
   "cell_type": "markdown",
   "id": "ac4fd0c0",
   "metadata": {},
   "source": [
    "# So our base model would be Logistic Regression .\n",
    "-Logistic Regression seems to fare well compare all the models, based on f1 score & recall score cumulatively  Logistic Regression  leads the way."
   ]
  },
  {
   "cell_type": "markdown",
   "id": "a83f28c5",
   "metadata": {},
   "source": [
    "# CROSS VALIDATION:"
   ]
  },
  {
   "cell_type": "code",
   "execution_count": 129,
   "id": "24f21189",
   "metadata": {},
   "outputs": [
    {
     "name": "stdout",
     "output_type": "stream",
     "text": [
      "Cross Validation Score of LogisticRegression model : 0.8721281464530891\n"
     ]
    }
   ],
   "source": [
    "from sklearn.model_selection import cross_val_score\n",
    "#validation accuracy\n",
    "cr_1=cross_val_score(lr,x,y,cv=5)\n",
    "print(\"Cross Validation Score of LogisticRegression model :\",cr_1.mean())"
   ]
  },
  {
   "cell_type": "code",
   "execution_count": 130,
   "id": "c6b7bba1",
   "metadata": {},
   "outputs": [
    {
     "name": "stdout",
     "output_type": "stream",
     "text": [
      "Cross Validation Score of KNeighborsClassifier model : 0.8371319603356216\n"
     ]
    }
   ],
   "source": [
    "from sklearn.model_selection import cross_val_score\n",
    "#validation accuracy\n",
    "cr_2=cross_val_score(KNN,x,y,cv=5)\n",
    "print(\"Cross Validation Score of KNeighborsClassifier model :\",cr_2.mean())"
   ]
  },
  {
   "cell_type": "code",
   "execution_count": 131,
   "id": "c38c0d9e",
   "metadata": {},
   "outputs": [
    {
     "name": "stdout",
     "output_type": "stream",
     "text": [
      "Cross Validation Score of SVM model : 0.8967048054919907\n"
     ]
    }
   ],
   "source": [
    "from sklearn.model_selection import cross_val_score\n",
    "#validation accuracy\n",
    "cr_3=cross_val_score(svc,x,y,cv=5)\n",
    "print(\"Cross Validation Score of SVM model :\",cr_3.mean())"
   ]
  },
  {
   "cell_type": "code",
   "execution_count": 132,
   "id": "fc05df25",
   "metadata": {},
   "outputs": [
    {
     "name": "stdout",
     "output_type": "stream",
     "text": [
      "Cross Validation Score of RandomForestClassifier model : 0.9054767353165524\n"
     ]
    }
   ],
   "source": [
    "from sklearn.model_selection import cross_val_score\n",
    "#validation accuracy\n",
    "cr_4=cross_val_score(rdf,x,y,cv=5)\n",
    "print(\"Cross Validation Score of RandomForestClassifier model :\",cr_4.mean())"
   ]
  },
  {
   "cell_type": "code",
   "execution_count": 133,
   "id": "656976d1",
   "metadata": {},
   "outputs": [
    {
     "name": "stdout",
     "output_type": "stream",
     "text": [
      "Cross Validation Score of DecisionTreeClassifier model : 0.8564759725400457\n"
     ]
    }
   ],
   "source": [
    "from sklearn.model_selection import cross_val_score\n",
    "#validation accuracy\n",
    "cr_5=cross_val_score(dt,x,y,cv=5)\n",
    "print(\"Cross Validation Score of DecisionTreeClassifier model :\",cr_5.mean())"
   ]
  },
  {
   "cell_type": "markdown",
   "id": "551288a8",
   "metadata": {},
   "source": [
    "# HyperParameterTunning:"
   ]
  },
  {
   "cell_type": "code",
   "execution_count": 134,
   "id": "c1ad4e4b",
   "metadata": {},
   "outputs": [],
   "source": [
    "#Hypertunning :\n",
    "from sklearn.ensemble import RandomForestClassifier\n",
    "RandomForestClassifier()\n",
    "from sklearn.model_selection import GridSearchCV\n",
    "parameters={\"max_features\":['sqrt','log2'],\n",
    "    'max_depth':[5,6,7,8],\n",
    "    'criterion':['gini','entrophy'],\n",
    "    'n_estimators':[100,200,300,400,500]}"
   ]
  },
  {
   "cell_type": "code",
   "execution_count": null,
   "id": "cb4e271c",
   "metadata": {},
   "outputs": [],
   "source": [
    "#GCV=GridSearchCV\n",
    "GCV=GridSearchCV(estimator=RandomForestClassifier(),\n",
    "                param_grid=parameters,\n",
    "                cv=4,\n",
    "                scoring=\"accuracy\")\n",
    "GCV.fit(X_train,y_train)\n",
    "#fitting the dataset in model:\n",
    "GCV.best_params_\n",
    "#printing the best parameters found by GridsearchCV\n",
    "type(GCV)\n",
    "#RandomForestClassifier()\n",
    "GCV.best_estimator_"
   ]
  },
  {
   "cell_type": "code",
   "execution_count": null,
   "id": "95954dfa",
   "metadata": {},
   "outputs": [],
   "source": [
    "#predicting the best accuracy parameters\n",
    "#checking the first accuracy:\n",
    "GCV_pred=GCV.predict(X_test)\n",
    "accuracy_score(y_test,GCV_pred)"
   ]
  },
  {
   "cell_type": "markdown",
   "id": "c5c18de4",
   "metadata": {},
   "source": [
    "# Pickeling of file or serialization of a file:"
   ]
  },
  {
   "cell_type": "code",
   "execution_count": null,
   "id": "1a5656ea",
   "metadata": {},
   "outputs": [],
   "source": [
    "import joblib\n",
    "joblib.dump(GCV.best_estimator_,\"Grade of students.dataset.pkl\")"
   ]
  },
  {
   "cell_type": "code",
   "execution_count": null,
   "id": "2ff7b03f",
   "metadata": {},
   "outputs": [],
   "source": []
  },
  {
   "cell_type": "code",
   "execution_count": null,
   "id": "4c2840fc",
   "metadata": {},
   "outputs": [],
   "source": []
  },
  {
   "cell_type": "code",
   "execution_count": null,
   "id": "6fd5923c",
   "metadata": {},
   "outputs": [],
   "source": []
  }
 ],
 "metadata": {
  "kernelspec": {
   "display_name": "Python 3 (ipykernel)",
   "language": "python",
   "name": "python3"
  },
  "language_info": {
   "codemirror_mode": {
    "name": "ipython",
    "version": 3
   },
   "file_extension": ".py",
   "mimetype": "text/x-python",
   "name": "python",
   "nbconvert_exporter": "python",
   "pygments_lexer": "ipython3",
   "version": "3.9.12"
  }
 },
 "nbformat": 4,
 "nbformat_minor": 5
}
